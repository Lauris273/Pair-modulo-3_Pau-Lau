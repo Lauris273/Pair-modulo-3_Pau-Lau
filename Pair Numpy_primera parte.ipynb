{
 "cells": [
  {
   "cell_type": "code",
   "execution_count": 1,
   "id": "17a63907",
   "metadata": {},
   "outputs": [],
   "source": [
    "import numpy as np"
   ]
  },
  {
   "cell_type": "markdown",
   "id": "1dd7f855",
   "metadata": {},
   "source": [
    "Creación y Indexación:\n",
    "1. Crea un array 1D con 50 valores aleatorio del 10 al 99. Accede a los elementos en las posiciones múltiplos de 5.\n",
    "\n",
    "2.  un array 1D con 30 valores aleatorios del 1 al 20 (ambos incluidos). Utiliza indexación para obtener los elementos en las posiciones impares.\n",
    "\n",
    "3. Crea un array 2D de forma (4, 6) con números aleatorios decimales (no deben estar comprendidos solo entre 0 y 1). Accede a la última fila de la matriz. Los decimales deben estar redondeados a 2 decimales."
   ]
  },
  {
   "cell_type": "code",
   "execution_count": null,
   "id": "b191e1a8",
   "metadata": {},
   "outputs": [
    {
     "name": "stdout",
     "output_type": "stream",
     "text": [
      "[85 47 93 58 96 43 72 99 41 52 84 21 91 66 40 32 46 53 25 54 88 29 27 48\n",
      " 65 84 11 80 65 39 28 19 41 37 20 82 75 89 29 39 41 48 39 64 47 22 35 74\n",
      " 98 64]\n"
     ]
    }
   ],
   "source": [
    "# 1:\n",
    "array_1d = np.random.randint(10,100,50)\n",
    "print(array_1d)"
   ]
  },
  {
   "cell_type": "code",
   "execution_count": 12,
   "id": "62c3c6d8",
   "metadata": {},
   "outputs": [
    {
     "data": {
      "text/plain": [
       "50"
      ]
     },
     "execution_count": 12,
     "metadata": {},
     "output_type": "execute_result"
    }
   ],
   "source": [
    "len(array_1d)"
   ]
  },
  {
   "cell_type": "code",
   "execution_count": null,
   "id": "fba2afb2",
   "metadata": {},
   "outputs": [
    {
     "data": {
      "text/plain": [
       "array([96, 52, 40, 54, 65, 39, 20, 39, 47, 64])"
      ]
     },
     "execution_count": 13,
     "metadata": {},
     "output_type": "execute_result"
    }
   ],
   "source": [
    "array_1d[4::5] # empezamos en la quinta posición, múltiplos de 5"
   ]
  },
  {
   "cell_type": "code",
   "execution_count": 14,
   "id": "cbf68956",
   "metadata": {},
   "outputs": [
    {
     "name": "stdout",
     "output_type": "stream",
     "text": [
      "[12 11 12  5 16 16 11  1 11 11 13 16 19 14 19  4  3  1  4  4  1  9  1  8\n",
      "  2 19 11  1  7 17]\n"
     ]
    }
   ],
   "source": [
    "# 2: \n",
    "array2_1d = np.random.randint(1,21,30)\n",
    "print(array2_1d)"
   ]
  },
  {
   "cell_type": "code",
   "execution_count": null,
   "id": "1b463a74",
   "metadata": {},
   "outputs": [
    {
     "data": {
      "text/plain": [
       "array([12, 12, 16, 11, 11, 13, 19, 19,  3,  4,  1,  1,  2, 11,  7])"
      ]
     },
     "execution_count": 15,
     "metadata": {},
     "output_type": "execute_result"
    }
   ],
   "source": [
    "array2_1d[::2] # impares"
   ]
  },
  {
   "cell_type": "code",
   "execution_count": null,
   "id": "428e10d2",
   "metadata": {},
   "outputs": [
    {
     "ename": "SyntaxError",
     "evalue": "invalid syntax (4187131863.py, line 2)",
     "output_type": "error",
     "traceback": [
      "\u001b[1;36m  Cell \u001b[1;32mIn[21], line 2\u001b[1;36m\u001b[0m\n\u001b[1;33m    array_2d = np.random.random_sample( ,(4,6) dtype=float)\u001b[0m\n\u001b[1;37m                                        ^\u001b[0m\n\u001b[1;31mSyntaxError\u001b[0m\u001b[1;31m:\u001b[0m invalid syntax\n"
     ]
    }
   ],
   "source": [
    "# 3:\n",
    "array_2d = np.random.random_sample( (4,6) dtype=float)\n",
    "print(array_2d)"
   ]
  },
  {
   "cell_type": "markdown",
   "id": "3b6446b9",
   "metadata": {},
   "source": []
  }
 ],
 "metadata": {
  "kernelspec": {
   "display_name": "base",
   "language": "python",
   "name": "python3"
  },
  "language_info": {
   "codemirror_mode": {
    "name": "ipython",
    "version": 3
   },
   "file_extension": ".py",
   "mimetype": "text/x-python",
   "name": "python",
   "nbconvert_exporter": "python",
   "pygments_lexer": "ipython3",
   "version": "3.12.7"
  }
 },
 "nbformat": 4,
 "nbformat_minor": 5
}
