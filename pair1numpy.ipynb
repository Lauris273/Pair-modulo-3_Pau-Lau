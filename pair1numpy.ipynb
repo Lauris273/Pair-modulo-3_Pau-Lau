{
 "cells": [
  {
   "cell_type": "markdown",
   "id": "659b35cb",
   "metadata": {},
   "source": [
    "Crea un array 1D con 50 valores aleatorio del 10 al 99. Accede a los elementos en las posiciones múltiplos de 5."
   ]
  },
  {
   "cell_type": "code",
   "execution_count": 1,
   "id": "24a665f8",
   "metadata": {},
   "outputs": [],
   "source": [
    "import numpy as np"
   ]
  },
  {
   "cell_type": "code",
   "execution_count": 3,
   "id": "54398a86",
   "metadata": {},
   "outputs": [
    {
     "name": "stdout",
     "output_type": "stream",
     "text": [
      "[98 35 71 19 19 35 52 43 52 47 92 76 29 15 43 22 15 55 85 30 72 12 56 90\n",
      " 39 41 35 24 92 53 83 25 90 30 51 17 69 79 35 19 19 42 76 92 15 32 77 57\n",
      " 75 69]\n"
     ]
    }
   ],
   "source": [
    "array_1d = np.random.randint(10, 100, 50)\n",
    "print(array_1d)"
   ]
  },
  {
   "cell_type": "code",
   "execution_count": null,
   "id": "a4c73737",
   "metadata": {},
   "outputs": [
    {
     "data": {
      "text/plain": [
       "array([19, 47, 43, 30, 39, 53, 51, 19, 15, 69])"
      ]
     },
     "execution_count": 9,
     "metadata": {},
     "output_type": "execute_result"
    }
   ],
   "source": [
    "array_1d[4::5] #empezamos en la 5 posicion mult.de 5\n"
   ]
  },
  {
   "cell_type": "markdown",
   "id": "d58e52d5",
   "metadata": {},
   "source": [
    "Crea un array 1D con 30 valores aleatorios del 1 al 20 (ambos incluidos). Utiliza indexación para obtener los elementos en las posiciones impares."
   ]
  },
  {
   "cell_type": "code",
   "execution_count": 13,
   "id": "7f7b049e",
   "metadata": {},
   "outputs": [
    {
     "name": "stdout",
     "output_type": "stream",
     "text": [
      "[ 6  8 13 10 18  1 20 20 16 12 11 19  7  6 15  5 15  1  8 18 16  8  6  1\n",
      " 19 11  6 17 13 15]\n"
     ]
    }
   ],
   "source": [
    "array2_1d = np.random.randint(1, 21, 30)\n",
    "print(array2_1d)"
   ]
  },
  {
   "cell_type": "code",
   "execution_count": null,
   "id": "ec47e5aa",
   "metadata": {},
   "outputs": [
    {
     "data": {
      "text/plain": [
       "array([ 6, 13, 18, 20, 16, 11,  7, 15, 15,  8, 16,  6, 19,  6, 13])"
      ]
     },
     "execution_count": 15,
     "metadata": {},
     "output_type": "execute_result"
    }
   ],
   "source": [
    "array2_1d[0::2] #impares (pares desde 0 ??)"
   ]
  },
  {
   "cell_type": "code",
   "execution_count": 11,
   "id": "3720f877",
   "metadata": {},
   "outputs": [
    {
     "data": {
      "text/plain": [
       "30"
      ]
     },
     "execution_count": 11,
     "metadata": {},
     "output_type": "execute_result"
    }
   ],
   "source": [
    "len(array2_1d)"
   ]
  },
  {
   "cell_type": "markdown",
   "id": "372c4d88",
   "metadata": {},
   "source": [
    "2. Crea un array 2D de forma (4, 6) con números aleatorios decimales (no deben estar comprendidos solo entre 0 y 1). Accede a la última fila de la matriz. Los decimales deben estar redondeados a 2 decimales."
   ]
  },
  {
   "cell_type": "code",
   "execution_count": null,
   "id": "f9954abc",
   "metadata": {},
   "outputs": [],
   "source": [
    "array_2d = np.random.random_sample( (4,6) dtype=float)\n",
    "print(array_2d)"
   ]
  },
  {
   "cell_type": "code",
   "execution_count": 32,
   "id": "fd5bbb61",
   "metadata": {},
   "outputs": [
    {
     "name": "stdout",
     "output_type": "stream",
     "text": [
      "[[0.26410604 0.83977299 0.61004047 0.27256138 0.26640679 0.58486288]\n",
      " [0.80710798 0.52578365 0.58236192 0.59350276 0.95986889 0.60792361]\n",
      " [0.22737376 0.78791867 0.81286251 0.0636656  0.83133387 0.05451327]\n",
      " [0.29408057 0.56447115 0.07842851 0.85642691 0.57766817 0.68667236]]\n",
      "[[0.26 0.84 0.61 0.27 0.27 0.58]\n",
      " [0.81 0.53 0.58 0.59 0.96 0.61]\n",
      " [0.23 0.79 0.81 0.06 0.83 0.05]\n",
      " [0.29 0.56 0.08 0.86 0.58 0.69]]\n"
     ]
    },
    {
     "data": {
      "text/plain": [
       "array([0.29, 0.56, 0.08, 0.86, 0.58, 0.69])"
      ]
     },
     "execution_count": 32,
     "metadata": {},
     "output_type": "execute_result"
    }
   ],
   "source": [
    "array_2d = np.random.rand(4,6)\n",
    "print(array_2d)\n",
    "array_2dd = np.round(array_2d, 2)\n",
    "print(array_2dd)\n",
    "array_2dd[-1]\n"
   ]
  },
  {
   "cell_type": "code",
   "execution_count": 56,
   "id": "4a7c1395",
   "metadata": {},
   "outputs": [
    {
     "data": {
      "text/plain": [
       "array([[30.26410604,  9.83977299, 33.61004047, 30.27256138, 48.26640679,\n",
       "        34.58486288],\n",
       "       [78.80710798,  9.52578365, 90.58236192, 50.59350276, 91.95986889,\n",
       "        62.60792361],\n",
       "       [13.22737376,  9.78791867, 80.81286251, 59.0636656 , 29.83133387,\n",
       "        13.05451327],\n",
       "       [10.29408057, 59.56447115, 94.07842851, 17.85642691, 35.57766817,\n",
       "        58.68667236]])"
      ]
     },
     "execution_count": 56,
     "metadata": {},
     "output_type": "execute_result"
    }
   ],
   "source": [
    "array_2d + np.random.randint(1,99,(4,6))"
   ]
  },
  {
   "cell_type": "markdown",
   "id": "f1d776ec",
   "metadata": {},
   "source": [
    "bidimensional_red = np.round(bidimensional, 2)"
   ]
  },
  {
   "cell_type": "markdown",
   "id": "fb42afce",
   "metadata": {},
   "source": [
    "\n",
    "Crea un array de tres 3D con elementos entre el 0 y 1 de forma (2, 3, 5) cuyos valores solo tengan 1 decimal."
   ]
  },
  {
   "cell_type": "code",
   "execution_count": 28,
   "id": "994c5a6b",
   "metadata": {},
   "outputs": [
    {
     "name": "stdout",
     "output_type": "stream",
     "text": [
      "[[[0.11825303 0.29075342 0.84023771 0.72356319 0.89339526]\n",
      "  [0.37467151 0.31846735 0.56319417 0.5287858  0.08738397]\n",
      "  [0.1576205  0.19794926 0.86549376 0.74120833 0.04082824]]\n",
      "\n",
      " [[0.62579336 0.61852034 0.2876934  0.04975639 0.45667877]\n",
      "  [0.53922441 0.5652684  0.71911313 0.06840633 0.72785339]\n",
      "  [0.78580235 0.69189798 0.13756206 0.72442522 0.41693296]]]\n",
      "[[[0.1 0.3 0.8 0.7 0.9]\n",
      "  [0.4 0.3 0.6 0.5 0.1]\n",
      "  [0.2 0.2 0.9 0.7 0. ]]\n",
      "\n",
      " [[0.6 0.6 0.3 0.  0.5]\n",
      "  [0.5 0.6 0.7 0.1 0.7]\n",
      "  [0.8 0.7 0.1 0.7 0.4]]]\n"
     ]
    }
   ],
   "source": [
    "array_3d= np.random.rand(2,3,5)\n",
    "print(array_3d)\n",
    "array_3dd = np.round(array_3d, 1)\n",
    "print(array_3dd)\n"
   ]
  },
  {
   "cell_type": "markdown",
   "id": "679c39cc",
   "metadata": {},
   "source": [
    "Crea un array vacío con la misma forma y dimensiones que el array creado anteriormente. Vamos a reemplazar los valores de la matriz vacía que nos acabamos de crear pero basándonos en los valores del primer array bajo las siguientes condiciones:\n",
    "\n",
    "Si el valor del array es igual que la media, se reemplaza por \"A\".\n",
    "\n",
    "Si el valor del array es mayor que la media, se reemplaza por \"B\".\n",
    "\n",
    "Si el valor del array es menor que la media, se reemplaza por \"C\".\n",
    "\n",
    "Si el valor es igual que el máximo, se reemplaza por \"D\".\n",
    "\n",
    "Si el valor es igual que el mínimo, se reemplaza por \"E\"."
   ]
  },
  {
   "cell_type": "code",
   "execution_count": 34,
   "id": "ebca637a",
   "metadata": {},
   "outputs": [
    {
     "name": "stdout",
     "output_type": "stream",
     "text": [
      "[[[0.1 0.3 0.8 0.7 0.9]\n",
      "  [0.4 0.3 0.6 0.5 0.1]\n",
      "  [0.2 0.2 0.9 0.7 0. ]]\n",
      "\n",
      " [[0.6 0.6 0.3 0.  0.5]\n",
      "  [0.5 0.6 0.7 0.1 0.7]\n",
      "  [0.8 0.7 0.1 0.7 0.4]]]\n"
     ]
    }
   ],
   "source": [
    "array2_3d= np.empty((2,3,5))\n",
    "print(array2_3d)"
   ]
  },
  {
   "cell_type": "code",
   "execution_count": null,
   "id": "f36b231f",
   "metadata": {},
   "outputs": [
    {
     "data": {
      "text/plain": [
       "0.4666666666666666"
      ]
     },
     "execution_count": 39,
     "metadata": {},
     "output_type": "execute_result"
    }
   ],
   "source": [
    "np.mean(array2_3d)"
   ]
  },
  {
   "cell_type": "code",
   "execution_count": 41,
   "id": "fa03a244",
   "metadata": {},
   "outputs": [
    {
     "data": {
      "text/plain": [
       "array([[['0.1', '0.3', '0.8', '0.7', '0.9'],\n",
       "        ['A', '0.3', '0.6', '0.5', '0.1'],\n",
       "        ['0.2', '0.2', '0.9', '0.7', '0.0']],\n",
       "\n",
       "       [['0.6', '0.6', '0.3', '0.0', '0.5'],\n",
       "        ['0.5', '0.6', '0.7', '0.1', '0.7'],\n",
       "        ['0.8', '0.7', '0.1', '0.7', 'A']]], dtype='<U32')"
      ]
     },
     "execution_count": 41,
     "metadata": {},
     "output_type": "execute_result"
    }
   ],
   "source": [
    "np.where(array2_3d == 0.4, \"A\", array2_3d)"
   ]
  },
  {
   "cell_type": "code",
   "execution_count": 43,
   "id": "1141484c",
   "metadata": {},
   "outputs": [
    {
     "data": {
      "text/plain": [
       "array([[['0.1', '0.3', 'B', 'B', 'B'],\n",
       "        ['0.4', '0.3', 'B', 'B', '0.1'],\n",
       "        ['0.2', '0.2', 'B', 'B', '0.0']],\n",
       "\n",
       "       [['B', 'B', '0.3', '0.0', 'B'],\n",
       "        ['B', 'B', 'B', '0.1', 'B'],\n",
       "        ['B', 'B', '0.1', 'B', '0.4']]], dtype='<U32')"
      ]
     },
     "execution_count": 43,
     "metadata": {},
     "output_type": "execute_result"
    }
   ],
   "source": [
    "np.where(array2_3d > 0.4, \"B\", array2_3d)"
   ]
  },
  {
   "cell_type": "code",
   "execution_count": 44,
   "id": "26299a59",
   "metadata": {},
   "outputs": [
    {
     "data": {
      "text/plain": [
       "array([[['C', 'C', '0.8', '0.7', '0.9'],\n",
       "        ['0.4', 'C', '0.6', '0.5', 'C'],\n",
       "        ['C', 'C', '0.9', '0.7', 'C']],\n",
       "\n",
       "       [['0.6', '0.6', 'C', 'C', '0.5'],\n",
       "        ['0.5', '0.6', '0.7', 'C', '0.7'],\n",
       "        ['0.8', '0.7', 'C', '0.7', '0.4']]], dtype='<U32')"
      ]
     },
     "execution_count": 44,
     "metadata": {},
     "output_type": "execute_result"
    }
   ],
   "source": [
    "np.where(array2_3d < 0.4, \"C\", array2_3d)"
   ]
  },
  {
   "cell_type": "code",
   "execution_count": 45,
   "id": "20952f9c",
   "metadata": {},
   "outputs": [
    {
     "data": {
      "text/plain": [
       "0.9"
      ]
     },
     "execution_count": 45,
     "metadata": {},
     "output_type": "execute_result"
    }
   ],
   "source": [
    "np.max(array2_3d)"
   ]
  },
  {
   "cell_type": "code",
   "execution_count": 46,
   "id": "d8cc5509",
   "metadata": {},
   "outputs": [
    {
     "data": {
      "text/plain": [
       "array([[['0.1', '0.3', '0.8', '0.7', 'D'],\n",
       "        ['0.4', '0.3', '0.6', '0.5', '0.1'],\n",
       "        ['0.2', '0.2', 'D', '0.7', '0.0']],\n",
       "\n",
       "       [['0.6', '0.6', '0.3', '0.0', '0.5'],\n",
       "        ['0.5', '0.6', '0.7', '0.1', '0.7'],\n",
       "        ['0.8', '0.7', '0.1', '0.7', '0.4']]], dtype='<U32')"
      ]
     },
     "execution_count": 46,
     "metadata": {},
     "output_type": "execute_result"
    }
   ],
   "source": [
    "np.where(array2_3d == 0.9, \"D\", array2_3d)"
   ]
  },
  {
   "cell_type": "code",
   "execution_count": 47,
   "id": "398cf804",
   "metadata": {},
   "outputs": [
    {
     "data": {
      "text/plain": [
       "0.0"
      ]
     },
     "execution_count": 47,
     "metadata": {},
     "output_type": "execute_result"
    }
   ],
   "source": [
    "np.min(array2_3d)"
   ]
  },
  {
   "cell_type": "code",
   "execution_count": 48,
   "id": "54cea02d",
   "metadata": {},
   "outputs": [
    {
     "data": {
      "text/plain": [
       "array([[['0.1', '0.3', '0.8', '0.7', '0.9'],\n",
       "        ['0.4', '0.3', '0.6', '0.5', '0.1'],\n",
       "        ['0.2', '0.2', '0.9', '0.7', 'E']],\n",
       "\n",
       "       [['0.6', '0.6', '0.3', 'E', '0.5'],\n",
       "        ['0.5', '0.6', '0.7', '0.1', '0.7'],\n",
       "        ['0.8', '0.7', '0.1', '0.7', '0.4']]], dtype='<U32')"
      ]
     },
     "execution_count": 48,
     "metadata": {},
     "output_type": "execute_result"
    }
   ],
   "source": [
    "np.where(array2_3d == 0.0, \"E\", array2_3d)"
   ]
  },
  {
   "cell_type": "code",
   "execution_count": null,
   "id": "9f291aa0",
   "metadata": {},
   "outputs": [],
   "source": [
    "Funciones Aritméticas y Estadísticas:\n",
    "Crea un array de tres 3D con elementos entre el 0 y 1 de forma (2, 3, 5) cuyos valores solo tengan 1 decimal."
   ]
  },
  {
   "cell_type": "code",
   "execution_count": 53,
   "id": "f78fa1a7",
   "metadata": {},
   "outputs": [
    {
     "data": {
      "text/plain": [
       "array([[[0.1, 0.5, 0.3, 0.8, 0.1],\n",
       "        [0.8, 0.7, 0.7, 0.2, 0.6],\n",
       "        [0.1, 0.5, 0.8, 0.6, 0.5]],\n",
       "\n",
       "       [[0.5, 0.1, 0.3, 0.9, 0.2],\n",
       "        [0.2, 0.3, 0.3, 0.2, 0.1],\n",
       "        [0.7, 0.1, 1. , 0.5, 0.5]]])"
      ]
     },
     "execution_count": 53,
     "metadata": {},
     "output_type": "execute_result"
    }
   ],
   "source": [
    "ele = np.round((np.random.rand(2, 3, 5)), 1)\n",
    "ele"
   ]
  },
  {
   "cell_type": "markdown",
   "id": "51b28d04",
   "metadata": {},
   "source": [
    "Crea un array 3D de forma (2, 3, 4) con valores aleatorios entre 1 y 100 (ambos inclusive). Utiliza reshape para convertirlo en un array 2D. Deberás pensar en la forma que es correcta para hacer este cambio."
   ]
  }
 ],
 "metadata": {
  "kernelspec": {
   "display_name": "base",
   "language": "python",
   "name": "python3"
  },
  "language_info": {
   "codemirror_mode": {
    "name": "ipython",
    "version": 3
   },
   "file_extension": ".py",
   "mimetype": "text/x-python",
   "name": "python",
   "nbconvert_exporter": "python",
   "pygments_lexer": "ipython3",
   "version": "3.12.7"
  }
 },
 "nbformat": 4,
 "nbformat_minor": 5
}
